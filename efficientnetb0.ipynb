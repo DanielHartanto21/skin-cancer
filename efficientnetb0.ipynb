{
 "cells": [
  {
   "cell_type": "code",
   "execution_count": 1,
   "id": "8b85de83",
   "metadata": {
    "execution": {
     "iopub.execute_input": "2023-11-21T05:16:32.040455Z",
     "iopub.status.busy": "2023-11-21T05:16:32.040099Z",
     "iopub.status.idle": "2023-11-21T05:16:45.527069Z",
     "shell.execute_reply": "2023-11-21T05:16:45.526172Z"
    },
    "papermill": {
     "duration": 13.498124,
     "end_time": "2023-11-21T05:16:45.529540",
     "exception": false,
     "start_time": "2023-11-21T05:16:32.031416",
     "status": "completed"
    },
    "tags": []
   },
   "outputs": [
    {
     "name": "stderr",
     "output_type": "stream",
     "text": [
      "/opt/conda/lib/python3.10/site-packages/scipy/__init__.py:146: UserWarning: A NumPy version >=1.16.5 and <1.23.0 is required for this version of SciPy (detected version 1.24.3\n",
      "  warnings.warn(f\"A NumPy version >={np_minversion} and <{np_maxversion}\"\n"
     ]
    }
   ],
   "source": [
    "import os\n",
    "import cv2\n",
    "import shutil\n",
    "import pandas as pd\n",
    "import numpy as np\n",
    "import matplotlib.pyplot as plt\n",
    "from sklearn.model_selection import train_test_split \n",
    "from tensorflow.keras.preprocessing.image import ImageDataGenerator\n",
    "from keras.layers import Input, BatchNormalization, GlobalAveragePooling2D, Dense, Dropout,Flatten\n",
    "from keras.models import Model, load_model\n",
    "import tensorflow as tf\n",
    "from tensorflow.keras import regularizers"
   ]
  },
  {
   "cell_type": "code",
   "execution_count": 2,
   "id": "e5bc06d1",
   "metadata": {
    "execution": {
     "iopub.execute_input": "2023-11-21T05:16:45.546000Z",
     "iopub.status.busy": "2023-11-21T05:16:45.544915Z",
     "iopub.status.idle": "2023-11-21T05:16:45.600752Z",
     "shell.execute_reply": "2023-11-21T05:16:45.599804Z"
    },
    "papermill": {
     "duration": 0.06603,
     "end_time": "2023-11-21T05:16:45.602860",
     "exception": false,
     "start_time": "2023-11-21T05:16:45.536830",
     "status": "completed"
    },
    "tags": []
   },
   "outputs": [
    {
     "data": {
      "text/plain": [
       "Index(['MEL', 'NV', 'BCC', 'AKIEC', 'BKL', 'DF', 'VASC'], dtype='object')"
      ]
     },
     "execution_count": 2,
     "metadata": {},
     "output_type": "execute_result"
    }
   ],
   "source": [
    "df = pd.read_csv('/kaggle/input/ham1000-segmentation-and-classification/GroundTruth.csv')\n",
    "classes=df.columns[1:]\n",
    "classes\n"
   ]
  },
  {
   "cell_type": "code",
   "execution_count": 3,
   "id": "a5fff9a9",
   "metadata": {
    "execution": {
     "iopub.execute_input": "2023-11-21T05:16:45.619652Z",
     "iopub.status.busy": "2023-11-21T05:16:45.619066Z",
     "iopub.status.idle": "2023-11-21T05:16:45.625616Z",
     "shell.execute_reply": "2023-11-21T05:16:45.624684Z"
    },
    "papermill": {
     "duration": 0.01797,
     "end_time": "2023-11-21T05:16:45.627946",
     "exception": false,
     "start_time": "2023-11-21T05:16:45.609976",
     "status": "completed"
    },
    "tags": []
   },
   "outputs": [],
   "source": [
    "parent_folder=\"baru\""
   ]
  },
  {
   "cell_type": "code",
   "execution_count": 4,
   "id": "7cb0a8b1",
   "metadata": {
    "execution": {
     "iopub.execute_input": "2023-11-21T05:16:45.648389Z",
     "iopub.status.busy": "2023-11-21T05:16:45.647110Z",
     "iopub.status.idle": "2023-11-21T05:16:45.655077Z",
     "shell.execute_reply": "2023-11-21T05:16:45.653834Z"
    },
    "papermill": {
     "duration": 0.021156,
     "end_time": "2023-11-21T05:16:45.657194",
     "exception": false,
     "start_time": "2023-11-21T05:16:45.636038",
     "status": "completed"
    },
    "tags": []
   },
   "outputs": [],
   "source": [
    "if os.path.isdir(parent_folder):\n",
    "    shutil.rmtree(parent_folder)\n",
    "os.mkdir(parent_folder)\n",
    "for i in classes:\n",
    "    folder=os.path.join(parent_folder,i)\n",
    "    os.mkdir(folder)"
   ]
  },
  {
   "cell_type": "code",
   "execution_count": 5,
   "id": "8a13a3a1",
   "metadata": {
    "execution": {
     "iopub.execute_input": "2023-11-21T05:16:45.675925Z",
     "iopub.status.busy": "2023-11-21T05:16:45.675307Z",
     "iopub.status.idle": "2023-11-21T05:25:38.710943Z",
     "shell.execute_reply": "2023-11-21T05:25:38.710126Z"
    },
    "papermill": {
     "duration": 533.046406,
     "end_time": "2023-11-21T05:25:38.713358",
     "exception": false,
     "start_time": "2023-11-21T05:16:45.666952",
     "status": "completed"
    },
    "tags": []
   },
   "outputs": [],
   "source": [
    "def preprocessing(image):\n",
    "    gambar=cv2.imread(f\"/kaggle/input/ham1000-segmentation-and-classification/images/{image}.jpg\",cv2.IMREAD_COLOR)\n",
    "    resize=cv2.resize(gambar,[224,224])\n",
    "    grayScale = cv2.cvtColor(resize, cv2.COLOR_RGB2GRAY )\n",
    "    #Black hat filter\n",
    "    kernel = cv2.getStructuringElement(1,(9,9)) \n",
    "    blackhat = cv2.morphologyEx(grayScale, cv2.MORPH_BLACKHAT, kernel)\n",
    "    #Gaussian blur\n",
    "    bhg= cv2.GaussianBlur(blackhat,(3,3),cv2.BORDER_DEFAULT)\n",
    "    #masking\n",
    "    ret,mask = cv2.threshold(bhg,10,255,cv2.THRESH_BINARY)\n",
    "    #Replace pixels of the mask\n",
    "    dst = cv2.inpaint(resize,mask,6,cv2.INPAINT_TELEA)   \n",
    "    return dst\n",
    "for cls in classes:\n",
    "    images = df[df[cls]==1]['image'].to_list()\n",
    "    for image in images:\n",
    "        gambar=preprocessing(image)\n",
    "        cv2.imwrite(f\"baru/{cls}/{image}.jpg\",gambar)\n"
   ]
  },
  {
   "cell_type": "code",
   "execution_count": 6,
   "id": "2ff6b665",
   "metadata": {
    "execution": {
     "iopub.execute_input": "2023-11-21T05:25:38.728740Z",
     "iopub.status.busy": "2023-11-21T05:25:38.728432Z",
     "iopub.status.idle": "2023-11-21T05:25:38.736828Z",
     "shell.execute_reply": "2023-11-21T05:25:38.735905Z"
    },
    "papermill": {
     "duration": 0.018044,
     "end_time": "2023-11-21T05:25:38.738696",
     "exception": false,
     "start_time": "2023-11-21T05:25:38.720652",
     "status": "completed"
    },
    "tags": []
   },
   "outputs": [],
   "source": [
    "\n",
    "def splitting(location):\n",
    "    files=[]\n",
    "    labels=[]\n",
    "    classes=os.listdir(location)\n",
    "    for cls in classes:\n",
    "        path=os.path.join(location,cls)\n",
    "        list_file=os.listdir(path)\n",
    "        for file in list_file:\n",
    "            file_path=os.path.join(path,file)\n",
    "            files.append(file_path)\n",
    "            labels.append(cls)\n",
    "    filepath=pd.Series(files,name=\"path\")\n",
    "    labelpath=pd.Series(labels,name=\"label\")\n",
    "    dataset=pd.concat([filepath,labelpath],axis=1)\n",
    "    strat=dataset['label']\n",
    "    train_dataset,test_valid_dataset=train_test_split(dataset,train_size=0.8,shuffle=True,random_state=42,stratify=strat)\n",
    "    strat_test_valid=test_valid_dataset[\"label\"]\n",
    "    test_dataset,validation_dataset=train_test_split(test_valid_dataset,train_size=0.5,shuffle=True,random_state=42,stratify=strat_test_valid) \n",
    "    print('train_df length: ', len(train_dataset), '  test_df length: ',len(test_dataset), '  valid_df length: ', len(validation_dataset))\n",
    "    print(train_dataset['label'].value_counts())\n",
    "    return train_dataset,test_dataset,validation_dataset   "
   ]
  },
  {
   "cell_type": "code",
   "execution_count": 7,
   "id": "07328a88",
   "metadata": {
    "execution": {
     "iopub.execute_input": "2023-11-21T05:25:38.753211Z",
     "iopub.status.busy": "2023-11-21T05:25:38.752960Z",
     "iopub.status.idle": "2023-11-21T05:25:38.813322Z",
     "shell.execute_reply": "2023-11-21T05:25:38.812368Z"
    },
    "papermill": {
     "duration": 0.070249,
     "end_time": "2023-11-21T05:25:38.815590",
     "exception": false,
     "start_time": "2023-11-21T05:25:38.745341",
     "status": "completed"
    },
    "tags": []
   },
   "outputs": [
    {
     "name": "stdout",
     "output_type": "stream",
     "text": [
      "train_df length:  8012   test_df length:  1001   valid_df length:  1002\n",
      "label\n",
      "NV       5364\n",
      "MEL       890\n",
      "BKL       879\n",
      "BCC       411\n",
      "AKIEC     262\n",
      "VASC      114\n",
      "DF         92\n",
      "Name: count, dtype: int64\n"
     ]
    },
    {
     "name": "stderr",
     "output_type": "stream",
     "text": [
      "/opt/conda/lib/python3.10/site-packages/sklearn/utils/validation.py:605: FutureWarning: is_sparse is deprecated and will be removed in a future version. Check `isinstance(dtype, pd.SparseDtype)` instead.\n",
      "  if is_sparse(pd_dtype):\n",
      "/opt/conda/lib/python3.10/site-packages/sklearn/utils/validation.py:614: FutureWarning: is_sparse is deprecated and will be removed in a future version. Check `isinstance(dtype, pd.SparseDtype)` instead.\n",
      "  if is_sparse(pd_dtype) or not is_extension_array_dtype(pd_dtype):\n",
      "/opt/conda/lib/python3.10/site-packages/sklearn/utils/validation.py:605: FutureWarning: is_sparse is deprecated and will be removed in a future version. Check `isinstance(dtype, pd.SparseDtype)` instead.\n",
      "  if is_sparse(pd_dtype):\n",
      "/opt/conda/lib/python3.10/site-packages/sklearn/utils/validation.py:614: FutureWarning: is_sparse is deprecated and will be removed in a future version. Check `isinstance(dtype, pd.SparseDtype)` instead.\n",
      "  if is_sparse(pd_dtype) or not is_extension_array_dtype(pd_dtype):\n"
     ]
    }
   ],
   "source": [
    "train_dataset,test_dataset,validation_dataset=splitting(parent_folder)"
   ]
  },
  {
   "cell_type": "code",
   "execution_count": 8,
   "id": "404b10f6",
   "metadata": {
    "execution": {
     "iopub.execute_input": "2023-11-21T05:25:38.831325Z",
     "iopub.status.busy": "2023-11-21T05:25:38.831084Z",
     "iopub.status.idle": "2023-11-21T05:25:38.836517Z",
     "shell.execute_reply": "2023-11-21T05:25:38.835672Z"
    },
    "papermill": {
     "duration": 0.016002,
     "end_time": "2023-11-21T05:25:38.838571",
     "exception": false,
     "start_time": "2023-11-21T05:25:38.822569",
     "status": "completed"
    },
    "tags": []
   },
   "outputs": [
    {
     "name": "stdout",
     "output_type": "stream",
     "text": [
      "1145\n"
     ]
    }
   ],
   "source": [
    "train_data_count=train_dataset['path'].count()\n",
    "avg_data_train=int(np.ceil(train_data_count/7))\n",
    "print(avg_data_train)"
   ]
  },
  {
   "cell_type": "code",
   "execution_count": 9,
   "id": "2702ecbd",
   "metadata": {
    "execution": {
     "iopub.execute_input": "2023-11-21T05:25:38.853488Z",
     "iopub.status.busy": "2023-11-21T05:25:38.853230Z",
     "iopub.status.idle": "2023-11-21T05:25:38.858282Z",
     "shell.execute_reply": "2023-11-21T05:25:38.857411Z"
    },
    "papermill": {
     "duration": 0.014716,
     "end_time": "2023-11-21T05:25:38.860224",
     "exception": false,
     "start_time": "2023-11-21T05:25:38.845508",
     "status": "completed"
    },
    "tags": []
   },
   "outputs": [
    {
     "name": "stdout",
     "output_type": "stream",
     "text": [
      "144\n"
     ]
    }
   ],
   "source": [
    "val_data_count=validation_dataset['path'].count()\n",
    "avg_data_val=int(np.ceil(val_data_count/7))\n",
    "print(avg_data_val)"
   ]
  },
  {
   "cell_type": "code",
   "execution_count": 10,
   "id": "e026a025",
   "metadata": {
    "execution": {
     "iopub.execute_input": "2023-11-21T05:25:38.875449Z",
     "iopub.status.busy": "2023-11-21T05:25:38.875208Z",
     "iopub.status.idle": "2023-11-21T05:25:38.892070Z",
     "shell.execute_reply": "2023-11-21T05:25:38.891367Z"
    },
    "papermill": {
     "duration": 0.026493,
     "end_time": "2023-11-21T05:25:38.893874",
     "exception": false,
     "start_time": "2023-11-21T05:25:38.867381",
     "status": "completed"
    },
    "tags": []
   },
   "outputs": [],
   "source": [
    "augmented_train_location=\"augmented_train\"\n",
    "augmented_val_location=\"augmented_val\"\n",
    "def balancing(dataset,size,train):\n",
    "    if train==True:\n",
    "        if os.path.isdir(augmented_train_location):\n",
    "            shutil.rmtree(augmented_train_location)\n",
    "        os.mkdir(augmented_train_location)\n",
    "        for i in dataset['label'].unique():\n",
    "            os.mkdir(os.path.join(augmented_train_location,i))\n",
    "    elif train==False:\n",
    "        if os.path.isdir(augmented_val_location):\n",
    "            shutil.rmtree(augmented_val_location)\n",
    "        os.mkdir(augmented_val_location)\n",
    "        for i in dataset['label'].unique():\n",
    "            os.mkdir(os.path.join(augmented_val_location,i))\n",
    "    data=dataset.copy()\n",
    "    reduce=[]\n",
    "    grouping=data.groupby(\"label\")\n",
    "    for i in data['label'].unique():\n",
    "        group_per_type=grouping.get_group(i)\n",
    "        if train==True:\n",
    "            count=len(group_per_type)\n",
    "            if count > size:\n",
    "                sampling=group_per_type.sample(size, replace=False, weights=None, random_state=42, axis=0).reset_index(drop=True)\n",
    "                reduce.append(sampling)\n",
    "            elif count <=size:\n",
    "                reduce.append(group_per_type)\n",
    "        elif train ==False:\n",
    "            reduce.append(group_per_type)\n",
    "    reduced_dataset=pd.concat(reduce,axis=0).reset_index(drop=True)\n",
    "    generator=ImageDataGenerator(horizontal_flip=True,rotation_range=90,width_shift_range=2,height_shift_range=2)\n",
    "    grouping=reduced_dataset.groupby(\"label\")\n",
    "    for type in reduced_dataset['label'].unique():\n",
    "        group_per_type=grouping.get_group(type)\n",
    "        count=len(group_per_type)\n",
    "        if count < size:\n",
    "            augmented_count=0\n",
    "            delta=size-count\n",
    "            if train==True:\n",
    "                location=os.path.join(augmented_train_location,type)\n",
    "            elif train==False:\n",
    "                location=os.path.join(augmented_val_location,type)\n",
    "            augmentation_generator=generator.flow_from_dataframe(group_per_type,x_col='path',y_col=None,target_size=(224,224), class_mode=None,\n",
    "                                                                  batch_size=1, shuffle=False,save_to_dir=location, save_prefix='augmented_',\n",
    "                                                                  color_mode='rgb',save_format='jpg')\n",
    "            while augmented_count<delta:\n",
    "                images=next(augmentation_generator)\n",
    "                augmented_count+=len(images)\n",
    "    files=[]\n",
    "    labels=[]\n",
    "    if train==True:\n",
    "        classes=os.listdir(augmented_train_location)\n",
    "    elif train==False:\n",
    "        classes=os.listdir(augmented_val_location)\n",
    "    for cls in classes:\n",
    "        if train==True:\n",
    "            path=os.path.join(augmented_train_location,cls)\n",
    "        elif train==False:\n",
    "            path=os.path.join(augmented_val_location,cls)\n",
    "        list_file=os.listdir(path)\n",
    "        for file in list_file:\n",
    "            file_path=os.path.join(path,file)\n",
    "            files.append(file_path)\n",
    "            labels.append(cls)\n",
    "    filepath=pd.Series(files,name=\"path\")\n",
    "    labelpath=pd.Series(labels,name=\"label\")\n",
    "    augmented_dataset=pd.concat([filepath,labelpath],axis=1)\n",
    "    combined_dataset=pd.concat([reduced_dataset,augmented_dataset],axis=0).reset_index(drop=True)\n",
    "    return combined_dataset\n"
   ]
  },
  {
   "cell_type": "code",
   "execution_count": 11,
   "id": "0fd5c47a",
   "metadata": {
    "execution": {
     "iopub.execute_input": "2023-11-21T05:25:38.909097Z",
     "iopub.status.busy": "2023-11-21T05:25:38.908835Z",
     "iopub.status.idle": "2023-11-21T05:26:23.488919Z",
     "shell.execute_reply": "2023-11-21T05:26:23.487965Z"
    },
    "papermill": {
     "duration": 44.59056,
     "end_time": "2023-11-21T05:26:23.491485",
     "exception": false,
     "start_time": "2023-11-21T05:25:38.900925",
     "status": "completed"
    },
    "tags": []
   },
   "outputs": [
    {
     "name": "stdout",
     "output_type": "stream",
     "text": [
      "Found 262 validated image filenames.\n",
      "Found 879 validated image filenames.\n",
      "Found 411 validated image filenames.\n",
      "Found 890 validated image filenames.\n",
      "Found 114 validated image filenames.\n",
      "Found 92 validated image filenames.\n"
     ]
    }
   ],
   "source": [
    "balanced_train_dataset=balancing(train_dataset,avg_data_train,True)\n",
    "# balanced_train_dataset=balancing(train_dataset,800)\n",
    "# print(balanced_train_dataset['label'].value_counts())\n",
    "# balanced_train_dataset=train_dataset\n",
    "# balanced_val=balancing(validation_dataset,avg_data_val,False)"
   ]
  },
  {
   "cell_type": "code",
   "execution_count": 12,
   "id": "987ac00f",
   "metadata": {
    "execution": {
     "iopub.execute_input": "2023-11-21T05:26:23.507981Z",
     "iopub.status.busy": "2023-11-21T05:26:23.507710Z",
     "iopub.status.idle": "2023-11-21T05:26:23.637611Z",
     "shell.execute_reply": "2023-11-21T05:26:23.636931Z"
    },
    "papermill": {
     "duration": 0.14032,
     "end_time": "2023-11-21T05:26:23.639491",
     "exception": false,
     "start_time": "2023-11-21T05:26:23.499171",
     "status": "completed"
    },
    "tags": []
   },
   "outputs": [
    {
     "name": "stdout",
     "output_type": "stream",
     "text": [
      "test batch size:  13   test steps:  77\n",
      "Found 8015 validated image filenames belonging to 7 classes.\n",
      "Found 1002 validated image filenames belonging to 7 classes.\n",
      "Found 1001 validated image filenames belonging to 7 classes.\n"
     ]
    }
   ],
   "source": [
    "batch_size=32\n",
    "img_size=(224,224)\n",
    "img_shape=(224,224,3)\n",
    "length=len(test_dataset)\n",
    "test_batch_size=sorted([int(length/n) for n in range(1,length+1) if length % n ==0 and length/n<=64],reverse=True)[0]  \n",
    "test_steps=int(length/test_batch_size)\n",
    "print ( 'test batch size: ' ,test_batch_size, '  test steps: ', test_steps)\n",
    "def process(image):\n",
    "    return image\n",
    "generator_for_training=ImageDataGenerator(preprocessing_function=process,horizontal_flip=True)\n",
    "generator=ImageDataGenerator(preprocessing_function=process)\n",
    "\n",
    "train_generator=generator_for_training.flow_from_dataframe(balanced_train_dataset,x_col='path',y_col='label',\n",
    "                                                           target_size=img_size,class_mode='categorical',color_mode='rgb',\n",
    "                                                           shuffle=True,batch_size=batch_size)\n",
    "validation_generator=generator.flow_from_dataframe(validation_dataset,x_col='path',y_col='label',\n",
    "                                                   target_size=img_size,class_mode='categorical',color_mode='rgb',\n",
    "                                                   shuffle=True,batch_size=batch_size)\n",
    "test_generator=generator.flow_from_dataframe(test_dataset,x_col='path',y_col='label', \n",
    "                                             target_size=img_size,class_mode='categorical',color_mode='rgb',\n",
    "                                             shuffle=False,batch_size=test_batch_size)\n",
    "train_steps=int(np.ceil(len(train_generator.labels)/batch_size))"
   ]
  },
  {
   "cell_type": "code",
   "execution_count": 13,
   "id": "7f556873",
   "metadata": {
    "execution": {
     "iopub.execute_input": "2023-11-21T05:26:23.656984Z",
     "iopub.status.busy": "2023-11-21T05:26:23.656291Z",
     "iopub.status.idle": "2023-11-21T05:26:28.994513Z",
     "shell.execute_reply": "2023-11-21T05:26:28.993666Z"
    },
    "papermill": {
     "duration": 5.349021,
     "end_time": "2023-11-21T05:26:28.996733",
     "exception": false,
     "start_time": "2023-11-21T05:26:23.647712",
     "status": "completed"
    },
    "tags": []
   },
   "outputs": [
    {
     "name": "stdout",
     "output_type": "stream",
     "text": [
      "Downloading data from https://storage.googleapis.com/keras-applications/efficientnetb0_notop.h5\n",
      "16705208/16705208 [==============================] - 0s 0us/step\n"
     ]
    }
   ],
   "source": [
    "learning_rate=1e-4\n",
    "epoch=30\n",
    "factor=learning_rate/epoch\n",
    "def efficientnet_b0():\n",
    "    input=Input(shape=img_shape)\n",
    "    base=tf.keras.applications.EfficientNetB0(weights='imagenet',include_top=False,input_shape=img_shape,input_tensor=input,classes=7)\n",
    "#     base.trainable=False\n",
    "#     x=Flatten()(base.output)\n",
    "    x = GlobalAveragePooling2D()(base.output)\n",
    "    x = BatchNormalization()(x)\n",
    "    x = Dropout(0.5)(x)\n",
    "    x = Dense(512, activation='relu')(x)\n",
    "    x = Dropout(0.5)(x)\n",
    "    output = Dense(7, activation='softmax',kernel_regularizer=regularizers.L1L2(l1=0.01, l2=0.01))(x)\n",
    "    model = Model(input, output)\n",
    "    optimizer = tf.keras.optimizers.Adam(learning_rate=learning_rate)\n",
    "    model.compile(optimizer=optimizer, loss=\"categorical_crossentropy\",  metrics=['accuracy'])\n",
    "    return model\n",
    "efficientnet_b0_model=efficientnet_b0()"
   ]
  },
  {
   "cell_type": "code",
   "execution_count": null,
   "id": "105e335e",
   "metadata": {
    "papermill": {
     "duration": 0.008206,
     "end_time": "2023-11-21T05:26:29.013445",
     "exception": false,
     "start_time": "2023-11-21T05:26:29.005239",
     "status": "completed"
    },
    "tags": []
   },
   "outputs": [],
   "source": []
  },
  {
   "cell_type": "code",
   "execution_count": 14,
   "id": "89034277",
   "metadata": {
    "execution": {
     "iopub.execute_input": "2023-11-21T05:26:29.031100Z",
     "iopub.status.busy": "2023-11-21T05:26:29.030353Z",
     "iopub.status.idle": "2023-11-21T05:26:29.034249Z",
     "shell.execute_reply": "2023-11-21T05:26:29.033455Z"
    },
    "papermill": {
     "duration": 0.014843,
     "end_time": "2023-11-21T05:26:29.036236",
     "exception": false,
     "start_time": "2023-11-21T05:26:29.021393",
     "status": "completed"
    },
    "tags": []
   },
   "outputs": [],
   "source": [
    "# efficientnet_b0_model.summary()"
   ]
  },
  {
   "cell_type": "code",
   "execution_count": 15,
   "id": "03e5dd9c",
   "metadata": {
    "execution": {
     "iopub.execute_input": "2023-11-21T05:26:29.053551Z",
     "iopub.status.busy": "2023-11-21T05:26:29.053310Z",
     "iopub.status.idle": "2023-11-21T05:26:29.058278Z",
     "shell.execute_reply": "2023-11-21T05:26:29.057453Z"
    },
    "papermill": {
     "duration": 0.015726,
     "end_time": "2023-11-21T05:26:29.060087",
     "exception": false,
     "start_time": "2023-11-21T05:26:29.044361",
     "status": "completed"
    },
    "tags": []
   },
   "outputs": [],
   "source": [
    "#stop=tf.keras.callbacks.EarlyStopping(monitor='val_loss',restore_best_weights=True,verbose=1,patience=5) \n",
    "reduce_lr =tf.keras.callbacks.ReduceLROnPlateau(monitor='val_loss', factor=factor,patience=5, min_lr=learning_rate,verbose=1) \n",
    "checkpoint=tf.keras.callbacks.ModelCheckpoint(\"efficientnet_b0_model.h5\",monitor=\"val_loss\",mode=\"min\",save_best_only = True,verbose=1)\n",
    "callback_list = [ reduce_lr, checkpoint]"
   ]
  },
  {
   "cell_type": "code",
   "execution_count": 16,
   "id": "4764e9e5",
   "metadata": {
    "execution": {
     "iopub.execute_input": "2023-11-21T05:26:29.077755Z",
     "iopub.status.busy": "2023-11-21T05:26:29.077250Z",
     "iopub.status.idle": "2023-11-21T05:54:29.152381Z",
     "shell.execute_reply": "2023-11-21T05:54:29.151299Z"
    },
    "papermill": {
     "duration": 1680.086344,
     "end_time": "2023-11-21T05:54:29.154463",
     "exception": false,
     "start_time": "2023-11-21T05:26:29.068119",
     "status": "completed"
    },
    "tags": []
   },
   "outputs": [
    {
     "name": "stdout",
     "output_type": "stream",
     "text": [
      "Epoch 1/30\n"
     ]
    },
    {
     "name": "stderr",
     "output_type": "stream",
     "text": [
      "2023-11-21 05:26:44.657073: E tensorflow/core/grappler/optimizers/meta_optimizer.cc:954] layout failed: INVALID_ARGUMENT: Size of values 0 does not match size of permutation 4 @ fanin shape inmodel/block2b_drop/dropout/SelectV2-2-TransposeNHWCToNCHW-LayoutOptimizer\n"
     ]
    },
    {
     "name": "stdout",
     "output_type": "stream",
     "text": [
      "251/251 [==============================] - ETA: 0s - loss: 4.0119 - accuracy: 0.4228\n",
      "Epoch 1: val_loss improved from inf to 2.85290, saving model to efficientnet_b0_model.h5\n"
     ]
    },
    {
     "name": "stderr",
     "output_type": "stream",
     "text": [
      "/opt/conda/lib/python3.10/site-packages/keras/src/engine/training.py:3000: UserWarning: You are saving your model as an HDF5 file via `model.save()`. This file format is considered legacy. We recommend using instead the native Keras format, e.g. `model.save('my_model.keras')`.\n",
      "  saving_api.save_model(\n"
     ]
    },
    {
     "name": "stdout",
     "output_type": "stream",
     "text": [
      "251/251 [==============================] - 104s 229ms/step - loss: 4.0119 - accuracy: 0.4228 - val_loss: 2.8529 - val_accuracy: 0.6547 - lr: 1.0000e-04\n",
      "Epoch 2/30\n",
      "251/251 [==============================] - ETA: 0s - loss: 3.1480 - accuracy: 0.6017\n",
      "Epoch 2: val_loss improved from 2.85290 to 2.58311, saving model to efficientnet_b0_model.h5\n",
      "251/251 [==============================] - 55s 217ms/step - loss: 3.1480 - accuracy: 0.6017 - val_loss: 2.5831 - val_accuracy: 0.6916 - lr: 1.0000e-04\n",
      "Epoch 3/30\n",
      "251/251 [==============================] - ETA: 0s - loss: 2.6981 - accuracy: 0.6681\n",
      "Epoch 3: val_loss improved from 2.58311 to 2.42486, saving model to efficientnet_b0_model.h5\n",
      "251/251 [==============================] - 55s 218ms/step - loss: 2.6981 - accuracy: 0.6681 - val_loss: 2.4249 - val_accuracy: 0.6946 - lr: 1.0000e-04\n",
      "Epoch 4/30\n",
      "251/251 [==============================] - ETA: 0s - loss: 2.3690 - accuracy: 0.7188\n",
      "Epoch 4: val_loss improved from 2.42486 to 2.10026, saving model to efficientnet_b0_model.h5\n",
      "251/251 [==============================] - 55s 218ms/step - loss: 2.3690 - accuracy: 0.7188 - val_loss: 2.1003 - val_accuracy: 0.7605 - lr: 1.0000e-04\n",
      "Epoch 5/30\n",
      "251/251 [==============================] - ETA: 0s - loss: 2.0890 - accuracy: 0.7657\n",
      "Epoch 5: val_loss improved from 2.10026 to 2.08322, saving model to efficientnet_b0_model.h5\n",
      "251/251 [==============================] - 55s 217ms/step - loss: 2.0890 - accuracy: 0.7657 - val_loss: 2.0832 - val_accuracy: 0.7176 - lr: 1.0000e-04\n",
      "Epoch 6/30\n",
      "251/251 [==============================] - ETA: 0s - loss: 1.8641 - accuracy: 0.7934\n",
      "Epoch 6: val_loss improved from 2.08322 to 1.81018, saving model to efficientnet_b0_model.h5\n",
      "251/251 [==============================] - 55s 217ms/step - loss: 1.8641 - accuracy: 0.7934 - val_loss: 1.8102 - val_accuracy: 0.7645 - lr: 1.0000e-04\n",
      "Epoch 7/30\n",
      "251/251 [==============================] - ETA: 0s - loss: 1.6362 - accuracy: 0.8228\n",
      "Epoch 7: val_loss improved from 1.81018 to 1.70432, saving model to efficientnet_b0_model.h5\n",
      "251/251 [==============================] - 55s 218ms/step - loss: 1.6362 - accuracy: 0.8228 - val_loss: 1.7043 - val_accuracy: 0.7635 - lr: 1.0000e-04\n",
      "Epoch 8/30\n",
      "251/251 [==============================] - ETA: 0s - loss: 1.4370 - accuracy: 0.8455\n",
      "Epoch 8: val_loss improved from 1.70432 to 1.62491, saving model to efficientnet_b0_model.h5\n",
      "251/251 [==============================] - 55s 218ms/step - loss: 1.4370 - accuracy: 0.8455 - val_loss: 1.6249 - val_accuracy: 0.7525 - lr: 1.0000e-04\n",
      "Epoch 9/30\n",
      "251/251 [==============================] - ETA: 0s - loss: 1.2536 - accuracy: 0.8682\n",
      "Epoch 9: val_loss improved from 1.62491 to 1.48168, saving model to efficientnet_b0_model.h5\n",
      "251/251 [==============================] - 55s 217ms/step - loss: 1.2536 - accuracy: 0.8682 - val_loss: 1.4817 - val_accuracy: 0.7495 - lr: 1.0000e-04\n",
      "Epoch 10/30\n",
      "251/251 [==============================] - ETA: 0s - loss: 1.0880 - accuracy: 0.8883\n",
      "Epoch 10: val_loss improved from 1.48168 to 1.37591, saving model to efficientnet_b0_model.h5\n",
      "251/251 [==============================] - 55s 218ms/step - loss: 1.0880 - accuracy: 0.8883 - val_loss: 1.3759 - val_accuracy: 0.7575 - lr: 1.0000e-04\n",
      "Epoch 11/30\n",
      "251/251 [==============================] - ETA: 0s - loss: 0.9414 - accuracy: 0.8991\n",
      "Epoch 11: val_loss improved from 1.37591 to 1.22177, saving model to efficientnet_b0_model.h5\n",
      "251/251 [==============================] - 55s 217ms/step - loss: 0.9414 - accuracy: 0.8991 - val_loss: 1.2218 - val_accuracy: 0.7884 - lr: 1.0000e-04\n",
      "Epoch 12/30\n",
      "251/251 [==============================] - ETA: 0s - loss: 0.8014 - accuracy: 0.9167\n",
      "Epoch 12: val_loss improved from 1.22177 to 1.14381, saving model to efficientnet_b0_model.h5\n",
      "251/251 [==============================] - 55s 217ms/step - loss: 0.8014 - accuracy: 0.9167 - val_loss: 1.1438 - val_accuracy: 0.7764 - lr: 1.0000e-04\n",
      "Epoch 13/30\n",
      "251/251 [==============================] - ETA: 0s - loss: 0.6818 - accuracy: 0.9248\n",
      "Epoch 13: val_loss improved from 1.14381 to 1.06922, saving model to efficientnet_b0_model.h5\n",
      "251/251 [==============================] - 55s 217ms/step - loss: 0.6818 - accuracy: 0.9248 - val_loss: 1.0692 - val_accuracy: 0.7814 - lr: 1.0000e-04\n",
      "Epoch 14/30\n",
      "251/251 [==============================] - ETA: 0s - loss: 0.5706 - accuracy: 0.9372\n",
      "Epoch 14: val_loss did not improve from 1.06922\n",
      "251/251 [==============================] - 54s 214ms/step - loss: 0.5706 - accuracy: 0.9372 - val_loss: 1.0805 - val_accuracy: 0.7665 - lr: 1.0000e-04\n",
      "Epoch 15/30\n",
      "251/251 [==============================] - ETA: 0s - loss: 0.4895 - accuracy: 0.9457\n",
      "Epoch 15: val_loss improved from 1.06922 to 1.04808, saving model to efficientnet_b0_model.h5\n",
      "251/251 [==============================] - 55s 217ms/step - loss: 0.4895 - accuracy: 0.9457 - val_loss: 1.0481 - val_accuracy: 0.7665 - lr: 1.0000e-04\n",
      "Epoch 16/30\n",
      "251/251 [==============================] - ETA: 0s - loss: 0.4085 - accuracy: 0.9578\n",
      "Epoch 16: val_loss improved from 1.04808 to 0.86299, saving model to efficientnet_b0_model.h5\n",
      "251/251 [==============================] - 55s 217ms/step - loss: 0.4085 - accuracy: 0.9578 - val_loss: 0.8630 - val_accuracy: 0.8074 - lr: 1.0000e-04\n",
      "Epoch 17/30\n",
      "251/251 [==============================] - ETA: 0s - loss: 0.3506 - accuracy: 0.9586\n",
      "Epoch 17: val_loss did not improve from 0.86299\n",
      "251/251 [==============================] - 54s 215ms/step - loss: 0.3506 - accuracy: 0.9586 - val_loss: 0.8832 - val_accuracy: 0.7884 - lr: 1.0000e-04\n",
      "Epoch 18/30\n",
      "251/251 [==============================] - ETA: 0s - loss: 0.3006 - accuracy: 0.9664\n",
      "Epoch 18: val_loss did not improve from 0.86299\n",
      "251/251 [==============================] - 54s 214ms/step - loss: 0.3006 - accuracy: 0.9664 - val_loss: 0.9349 - val_accuracy: 0.7884 - lr: 1.0000e-04\n",
      "Epoch 19/30\n",
      "251/251 [==============================] - ETA: 0s - loss: 0.2679 - accuracy: 0.9687\n",
      "Epoch 19: val_loss did not improve from 0.86299\n",
      "251/251 [==============================] - 54s 215ms/step - loss: 0.2679 - accuracy: 0.9687 - val_loss: 0.9180 - val_accuracy: 0.7705 - lr: 1.0000e-04\n",
      "Epoch 20/30\n",
      "251/251 [==============================] - ETA: 0s - loss: 0.2400 - accuracy: 0.9718\n",
      "Epoch 20: val_loss did not improve from 0.86299\n",
      "251/251 [==============================] - 54s 215ms/step - loss: 0.2400 - accuracy: 0.9718 - val_loss: 0.9553 - val_accuracy: 0.7685 - lr: 1.0000e-04\n",
      "Epoch 21/30\n",
      "251/251 [==============================] - ETA: 0s - loss: 0.2258 - accuracy: 0.9726\n",
      "Epoch 21: val_loss did not improve from 0.86299\n",
      "251/251 [==============================] - 54s 214ms/step - loss: 0.2258 - accuracy: 0.9726 - val_loss: 0.8820 - val_accuracy: 0.7994 - lr: 1.0000e-04\n",
      "Epoch 22/30\n",
      "251/251 [==============================] - ETA: 0s - loss: 0.1989 - accuracy: 0.9772\n",
      "Epoch 22: val_loss improved from 0.86299 to 0.82703, saving model to efficientnet_b0_model.h5\n",
      "251/251 [==============================] - 54s 217ms/step - loss: 0.1989 - accuracy: 0.9772 - val_loss: 0.8270 - val_accuracy: 0.7924 - lr: 1.0000e-04\n",
      "Epoch 23/30\n",
      "251/251 [==============================] - ETA: 0s - loss: 0.1919 - accuracy: 0.9765\n",
      "Epoch 23: val_loss did not improve from 0.82703\n",
      "251/251 [==============================] - 54s 214ms/step - loss: 0.1919 - accuracy: 0.9765 - val_loss: 0.9470 - val_accuracy: 0.7874 - lr: 1.0000e-04\n",
      "Epoch 24/30\n",
      "251/251 [==============================] - ETA: 0s - loss: 0.1766 - accuracy: 0.9782\n",
      "Epoch 24: val_loss did not improve from 0.82703\n",
      "251/251 [==============================] - 54s 215ms/step - loss: 0.1766 - accuracy: 0.9782 - val_loss: 0.9916 - val_accuracy: 0.7725 - lr: 1.0000e-04\n",
      "Epoch 25/30\n",
      "251/251 [==============================] - ETA: 0s - loss: 0.1505 - accuracy: 0.9849\n",
      "Epoch 25: val_loss did not improve from 0.82703\n",
      "251/251 [==============================] - 54s 214ms/step - loss: 0.1505 - accuracy: 0.9849 - val_loss: 0.8749 - val_accuracy: 0.7944 - lr: 1.0000e-04\n",
      "Epoch 26/30\n",
      "251/251 [==============================] - ETA: 0s - loss: 0.1546 - accuracy: 0.9812\n",
      "Epoch 26: val_loss improved from 0.82703 to 0.77852, saving model to efficientnet_b0_model.h5\n",
      "251/251 [==============================] - 55s 218ms/step - loss: 0.1546 - accuracy: 0.9812 - val_loss: 0.7785 - val_accuracy: 0.8094 - lr: 1.0000e-04\n",
      "Epoch 27/30\n",
      "251/251 [==============================] - ETA: 0s - loss: 0.1574 - accuracy: 0.9784\n",
      "Epoch 27: val_loss did not improve from 0.77852\n",
      "251/251 [==============================] - 54s 215ms/step - loss: 0.1574 - accuracy: 0.9784 - val_loss: 0.9496 - val_accuracy: 0.7874 - lr: 1.0000e-04\n",
      "Epoch 28/30\n",
      "251/251 [==============================] - ETA: 0s - loss: 0.1294 - accuracy: 0.9870\n",
      "Epoch 28: val_loss did not improve from 0.77852\n",
      "251/251 [==============================] - 54s 214ms/step - loss: 0.1294 - accuracy: 0.9870 - val_loss: 0.9191 - val_accuracy: 0.7844 - lr: 1.0000e-04\n",
      "Epoch 29/30\n",
      "251/251 [==============================] - ETA: 0s - loss: 0.1354 - accuracy: 0.9835\n",
      "Epoch 29: val_loss did not improve from 0.77852\n",
      "251/251 [==============================] - 54s 215ms/step - loss: 0.1354 - accuracy: 0.9835 - val_loss: 0.8365 - val_accuracy: 0.7884 - lr: 1.0000e-04\n",
      "Epoch 30/30\n",
      "251/251 [==============================] - ETA: 0s - loss: 0.1254 - accuracy: 0.9859\n",
      "Epoch 30: val_loss improved from 0.77852 to 0.72040, saving model to efficientnet_b0_model.h5\n",
      "251/251 [==============================] - 55s 217ms/step - loss: 0.1254 - accuracy: 0.9859 - val_loss: 0.7204 - val_accuracy: 0.8184 - lr: 1.0000e-04\n"
     ]
    }
   ],
   "source": [
    "classifier_history = efficientnet_b0_model.fit(train_generator, batch_size=batch_size,\n",
    "                validation_data=validation_generator,\n",
    "                steps_per_epoch=train_steps,\n",
    "                validation_steps=None,\n",
    "                epochs=epoch,\n",
    "                callbacks=callback_list\n",
    ")"
   ]
  },
  {
   "cell_type": "code",
   "execution_count": 17,
   "id": "6d76a646",
   "metadata": {
    "execution": {
     "iopub.execute_input": "2023-11-21T05:54:30.391585Z",
     "iopub.status.busy": "2023-11-21T05:54:30.391202Z",
     "iopub.status.idle": "2023-11-21T05:54:30.399346Z",
     "shell.execute_reply": "2023-11-21T05:54:30.398488Z"
    },
    "papermill": {
     "duration": 0.62715,
     "end_time": "2023-11-21T05:54:30.401224",
     "exception": false,
     "start_time": "2023-11-21T05:54:29.774074",
     "status": "completed"
    },
    "tags": []
   },
   "outputs": [],
   "source": [
    "def plot_history(history, title, plot_type, xlabel, ylabel):\n",
    "    plt.figure(figsize=(12,8))\n",
    "    if plot_type == 'accuracy':\n",
    "        plt.plot(history.history['accuracy'])\n",
    "        plt.plot(history.history['val_accuracy'])\n",
    "        plt.legend(['Train Accuracy', 'Validation Accuracy'], loc='upper left')\n",
    "    else:\n",
    "        plt.plot(history.history['loss'])\n",
    "        plt.plot(history.history['val_loss'])\n",
    "        plt.legend(['Train Loss', 'Validation Loss'], loc='upper left')\n",
    "    plt.title('Model Accuracy')\n",
    "    plt.ylabel('{}'.format(ylabel))\n",
    "    plt.xlabel('{}'.format(xlabel))\n",
    "    plt.gca().ticklabel_format(axis='both', style='plain', useOffset=False)\n",
    "    plt.title('{}'.format(title))\n",
    "    plt.savefig('{}.png'.format(title))\n",
    "    plt.show()"
   ]
  },
  {
   "cell_type": "code",
   "execution_count": 18,
   "id": "d3e7fd24",
   "metadata": {
    "execution": {
     "iopub.execute_input": "2023-11-21T05:54:31.702930Z",
     "iopub.status.busy": "2023-11-21T05:54:31.702206Z",
     "iopub.status.idle": "2023-11-21T05:54:32.122903Z",
     "shell.execute_reply": "2023-11-21T05:54:32.121996Z"
    },
    "papermill": {
     "duration": 1.106378,
     "end_time": "2023-11-21T05:54:32.124824",
     "exception": false,
     "start_time": "2023-11-21T05:54:31.018446",
     "status": "completed"
    },
    "tags": []
   },
   "outputs": [
    {
     "data": {
      "image/png": "[encoded data removed]",
      "text/plain": [
       "<Figure size 1200x800 with 1 Axes>"
      ]
     },
     "metadata": {},
     "output_type": "display_data"
    }
   ],
   "source": [
    "plot_history(classifier_history, 'Accuracy', 'accuracy', 'Epochs', 'Model Accuracy')"
   ]
  },
  {
   "cell_type": "code",
   "execution_count": 19,
   "id": "53f9a7ed",
   "metadata": {
    "execution": {
     "iopub.execute_input": "2023-11-21T05:54:33.348503Z",
     "iopub.status.busy": "2023-11-21T05:54:33.347660Z",
     "iopub.status.idle": "2023-11-21T05:54:33.772241Z",
     "shell.execute_reply": "2023-11-21T05:54:33.771397Z"
    },
    "papermill": {
     "duration": 1.036678,
     "end_time": "2023-11-21T05:54:33.774371",
     "exception": false,
     "start_time": "2023-11-21T05:54:32.737693",
     "status": "completed"
    },
    "tags": []
   },
   "outputs": [
    {
     "data": {
      "image/png": "[encoded data removed]",
      "text/plain": [
       "<Figure size 1200x800 with 1 Axes>"
      ]
     },
     "metadata": {},
     "output_type": "display_data"
    }
   ],
   "source": [
    "plot_history(classifier_history, 'Loss', 'loss', 'Epochs', 'Loss')"
   ]
  },
  {
   "cell_type": "code",
   "execution_count": 20,
   "id": "56eb035c",
   "metadata": {
    "execution": {
     "iopub.execute_input": "2023-11-21T05:54:35.050784Z",
     "iopub.status.busy": "2023-11-21T05:54:35.050382Z",
     "iopub.status.idle": "2023-11-21T05:54:37.296681Z",
     "shell.execute_reply": "2023-11-21T05:54:37.295657Z"
    },
    "papermill": {
     "duration": 2.864159,
     "end_time": "2023-11-21T05:54:37.298655",
     "exception": false,
     "start_time": "2023-11-21T05:54:34.434496",
     "status": "completed"
    },
    "tags": []
   },
   "outputs": [
    {
     "name": "stdout",
     "output_type": "stream",
     "text": [
      "77/77 [==============================] - 2s 22ms/step - loss: 0.6887 - accuracy: 0.8332\n",
      "accuracy on the test set is 83.32 %\n"
     ]
    }
   ],
   "source": [
    "acc=efficientnet_b0_model.evaluate( test_generator, batch_size=test_batch_size, verbose=1, steps=test_steps, return_dict=False)[1]*100\n",
    "print(f'accuracy on the test set is {acc:5.2f} %')"
   ]
  },
  {
   "cell_type": "code",
   "execution_count": 21,
   "id": "85c0fa8e",
   "metadata": {
    "execution": {
     "iopub.execute_input": "2023-11-21T05:54:38.606418Z",
     "iopub.status.busy": "2023-11-21T05:54:38.605423Z",
     "iopub.status.idle": "2023-11-21T05:54:38.867336Z",
     "shell.execute_reply": "2023-11-21T05:54:38.866257Z"
    },
    "papermill": {
     "duration": 0.928692,
     "end_time": "2023-11-21T05:54:38.869427",
     "exception": false,
     "start_time": "2023-11-21T05:54:37.940735",
     "status": "completed"
    },
    "tags": []
   },
   "outputs": [],
   "source": [
    "from sklearn.metrics import confusion_matrix,classification_report\n",
    "import seaborn as sns\n",
    "sns.set_style('darkgrid')"
   ]
  },
  {
   "cell_type": "code",
   "execution_count": 22,
   "id": "915062fb",
   "metadata": {
    "execution": {
     "iopub.execute_input": "2023-11-21T05:54:40.103844Z",
     "iopub.status.busy": "2023-11-21T05:54:40.103472Z",
     "iopub.status.idle": "2023-11-21T05:54:40.122730Z",
     "shell.execute_reply": "2023-11-21T05:54:40.121842Z"
    },
    "papermill": {
     "duration": 0.640869,
     "end_time": "2023-11-21T05:54:40.124691",
     "exception": false,
     "start_time": "2023-11-21T05:54:39.483822",
     "status": "completed"
    },
    "tags": []
   },
   "outputs": [],
   "source": [
    "def print_info( test_gen, preds, print_code, save_dir, subject ):\n",
    "    class_dict=test_gen.class_indices\n",
    "    labels= test_gen.labels\n",
    "    file_names= test_gen.filenames \n",
    "    error_list=[]\n",
    "    true_class=[]\n",
    "    pred_class=[]\n",
    "    prob_list=[]\n",
    "    new_dict={}\n",
    "    error_indices=[]\n",
    "    y_pred=[]\n",
    "    for key,value in class_dict.items():\n",
    "        new_dict[value]=key             # dictionary {integer of class number: string of class name}\n",
    "    # store new_dict as a text fine in the save_dir\n",
    "    classes=list(new_dict.values())     # list of string of class names     \n",
    "    errors=0      \n",
    "    for i, p in enumerate(preds):\n",
    "        pred_index=np.argmax(p)         \n",
    "        true_index=labels[i]  # labels are integer values\n",
    "        if pred_index != true_index: # a misclassification has occurred\n",
    "            error_list.append(file_names[i])\n",
    "            true_class.append(new_dict[true_index])\n",
    "            pred_class.append(new_dict[pred_index])\n",
    "            prob_list.append(p[pred_index])\n",
    "            error_indices.append(true_index)            \n",
    "            errors=errors + 1\n",
    "        y_pred.append(pred_index)    \n",
    "    if print_code !=0:\n",
    "        if errors>0:\n",
    "            if print_code>errors:\n",
    "                r=errors\n",
    "            else:\n",
    "                r=print_code           \n",
    "            msg='{0:^28s}{1:^28s}{2:^28s}{3:^16s}'.format('Filename', 'Predicted Class' , 'True Class', 'Probability')\n",
    "            print_in_color(msg, (0,255,0),(55,65,80))\n",
    "            for i in range(r):                \n",
    "                split1=os.path.split(error_list[i])                \n",
    "                split2=os.path.split(split1[0])                \n",
    "                fname=split2[1] + '/' + split1[1]\n",
    "                msg='{0:^28s}{1:^28s}{2:^28s}{3:4s}{4:^6.4f}'.format(fname, pred_class[i],true_class[i], ' ', prob_list[i])\n",
    "                print_in_color(msg, (255,255,255), (55,65,60))\n",
    "                #print(error_list[i]  , pred_class[i], true_class[i], prob_list[i])               \n",
    "        else:\n",
    "            msg='With accuracy of 100 % there are no errors to print'\n",
    "            print_in_color(msg, (0,255,0),(55,65,80))\n",
    "    if errors>0:\n",
    "        plot_bar=[]\n",
    "        plot_class=[]\n",
    "        for  key, value in new_dict.items():        \n",
    "            count=error_indices.count(key) \n",
    "            if count!=0:\n",
    "                plot_bar.append(count) # list containg how many times a class c had an error\n",
    "                plot_class.append(value)   # stores the class \n",
    "        fig=plt.figure()\n",
    "        fig.set_figheight(len(plot_class)/3)\n",
    "        fig.set_figwidth(10)\n",
    "        plt.style.use('fivethirtyeight')\n",
    "        for i in range(0, len(plot_class)):\n",
    "            c=plot_class[i]\n",
    "            x=plot_bar[i]\n",
    "            plt.barh(c, x, )\n",
    "            plt.title( ' Errors by Class on Test Set')\n",
    "    y_true= np.array(labels)        \n",
    "    y_pred=np.array(y_pred)\n",
    "    if len(classes)<= 30:\n",
    "        # create a confusion matrix \n",
    "        cm = confusion_matrix(y_true, y_pred )        \n",
    "        length=len(classes)\n",
    "        if length<8:\n",
    "            fig_width=8\n",
    "            fig_height=8\n",
    "        else:\n",
    "            fig_width= int(length * .5)\n",
    "            fig_height= int(length * .5)\n",
    "        plt.figure(figsize=(fig_width, fig_height))\n",
    "        sns.heatmap(cm, annot=True, vmin=0, fmt='g', cmap='Blues', cbar=False)       \n",
    "        plt.xticks(np.arange(length)+.5, classes, rotation= 90)\n",
    "        plt.yticks(np.arange(length)+.5, classes, rotation=0)\n",
    "        plt.xlabel(\"Predicted\")\n",
    "        plt.ylabel(\"Actual\")\n",
    "        plt.title(\"Confusion Matrix\")\n",
    "        plt.show()\n",
    "    clr = classification_report(y_true, y_pred, target_names=classes)\n",
    "    print(\"Classification Report:\\n----------------------\\n\", clr)"
   ]
  },
  {
   "cell_type": "code",
   "execution_count": 23,
   "id": "47432b7c",
   "metadata": {
    "execution": {
     "iopub.execute_input": "2023-11-21T05:54:41.400394Z",
     "iopub.status.busy": "2023-11-21T05:54:41.400055Z",
     "iopub.status.idle": "2023-11-21T05:54:45.029651Z",
     "shell.execute_reply": "2023-11-21T05:54:45.028442Z"
    },
    "papermill": {
     "duration": 4.292193,
     "end_time": "2023-11-21T05:54:45.031877",
     "exception": false,
     "start_time": "2023-11-21T05:54:40.739684",
     "status": "completed"
    },
    "tags": []
   },
   "outputs": [
    {
     "name": "stdout",
     "output_type": "stream",
     "text": [
      "77/77 [==============================] - 3s 19ms/step\n"
     ]
    },
    {
     "data": {
      "image/png": "[encoded data removed]",
      "text/plain": [
       "<Figure size 1000x233.333 with 1 Axes>"
      ]
     },
     "metadata": {},
     "output_type": "display_data"
    },
    {
     "data": {
      "image/png": "[encoded data removed]",
      "text/plain": [
       "<Figure size 800x800 with 1 Axes>"
      ]
     },
     "metadata": {},
     "output_type": "display_data"
    },
    {
     "name": "stdout",
     "output_type": "stream",
     "text": [
      "Classification Report:\n",
      "----------------------\n",
      "               precision    recall  f1-score   support\n",
      "\n",
      "       AKIEC       0.80      0.48      0.60        33\n",
      "         BCC       0.63      0.84      0.72        51\n",
      "         BKL       0.71      0.70      0.70       110\n",
      "          DF       0.90      0.75      0.82        12\n",
      "         MEL       0.58      0.65      0.61       111\n",
      "          NV       0.92      0.90      0.91       670\n",
      "        VASC       0.93      0.93      0.93        14\n",
      "\n",
      "    accuracy                           0.83      1001\n",
      "   macro avg       0.78      0.75      0.76      1001\n",
      "weighted avg       0.84      0.83      0.83      1001\n",
      "\n"
     ]
    }
   ],
   "source": [
    "print_code=0\n",
    "subject='skin disease'\n",
    "preds=efficientnet_b0_model.predict(test_generator, steps=test_steps, verbose=1) \n",
    "print_info( test_generator, preds, print_code, r'./', subject )  "
   ]
  },
  {
   "cell_type": "code",
   "execution_count": 24,
   "id": "1b26e98e",
   "metadata": {
    "execution": {
     "iopub.execute_input": "2023-11-21T05:54:46.302735Z",
     "iopub.status.busy": "2023-11-21T05:54:46.302329Z",
     "iopub.status.idle": "2023-11-21T05:54:47.007564Z",
     "shell.execute_reply": "2023-11-21T05:54:47.006673Z"
    },
    "papermill": {
     "duration": 1.327375,
     "end_time": "2023-11-21T05:54:47.010075",
     "exception": false,
     "start_time": "2023-11-21T05:54:45.682700",
     "status": "completed"
    },
    "tags": []
   },
   "outputs": [
    {
     "name": "stderr",
     "output_type": "stream",
     "text": [
      "/opt/conda/lib/python3.10/site-packages/keras/src/engine/training.py:3000: UserWarning: You are saving your model as an HDF5 file via `model.save()`. This file format is considered legacy. We recommend using instead the native Keras format, e.g. `model.save('my_model.keras')`.\n",
      "  saving_api.save_model(\n"
     ]
    }
   ],
   "source": [
    "efficientnet_b0_model.save(\"efficientnet_b0_model_coba.h5\")"
   ]
  }
 ],
 "metadata": {
  "kaggle": {
   "accelerator": "gpu",
   "dataSources": [
    {
     "datasetId": 1370616,
     "sourceId": 2275763,
     "sourceType": "datasetVersion"
    }
   ],
   "dockerImageVersionId": 30580,
   "isGpuEnabled": true,
   "isInternetEnabled": true,
   "language": "python",
   "sourceType": "notebook"
  },
  "kernelspec": {
   "display_name": "Python 3",
   "language": "python",
   "name": "python3"
  },
  "language_info": {
   "codemirror_mode": {
    "name": "ipython",
    "version": 3
   },
   "file_extension": ".py",
   "mimetype": "text/x-python",
   "name": "python",
   "nbconvert_exporter": "python",
   "pygments_lexer": "ipython3",
   "version": "3.10.12"
  },
  "papermill": {
   "default_parameters": {},
   "duration": 2302.862411,
   "end_time": "2023-11-21T05:54:51.448172",
   "environment_variables": {},
   "exception": null,
   "input_path": "__notebook__.ipynb",
   "output_path": "__notebook__.ipynb",
   "parameters": {},
   "start_time": "2023-11-21T05:16:28.585761",
   "version": "2.4.0"
  }
 },
 "nbformat": 4,
 "nbformat_minor": 5
}
